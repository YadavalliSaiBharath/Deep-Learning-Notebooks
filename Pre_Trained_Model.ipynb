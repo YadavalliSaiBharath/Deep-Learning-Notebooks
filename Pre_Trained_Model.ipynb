{
  "nbformat": 4,
  "nbformat_minor": 0,
  "metadata": {
    "colab": {
      "provenance": []
    },
    "kernelspec": {
      "name": "python3",
      "display_name": "Python 3"
    },
    "language_info": {
      "name": "python"
    }
  },
  "cells": [
    {
      "cell_type": "code",
      "execution_count": 6,
      "metadata": {
        "id": "7hTixW8VRSXb"
      },
      "outputs": [],
      "source": [
        "import tensorflow\n",
        "from tensorflow import keras\n",
        "from keras.applications import VGG16\n",
        "from keras.preprocessing import image\n",
        "from keras.applications.vgg16 import preprocess_input, decode_predictions\n",
        "import numpy as np"
      ]
    },
    {
      "cell_type": "code",
      "source": [
        "model = VGG16(weights='imagenet', include_top=True,input_shape=(224,224,3))"
      ],
      "metadata": {
        "colab": {
          "base_uri": "https://localhost:8080/"
        },
        "id": "s148hTdYsfOA",
        "outputId": "5efc2415-a754-4133-b617-a930b1f7eedd"
      },
      "execution_count": 4,
      "outputs": [
        {
          "output_type": "stream",
          "name": "stdout",
          "text": [
            "Downloading data from https://storage.googleapis.com/tensorflow/keras-applications/vgg16/vgg16_weights_tf_dim_ordering_tf_kernels.h5\n",
            "\u001b[1m553467096/553467096\u001b[0m \u001b[32m━━━━━━━━━━━━━━━━━━━━\u001b[0m\u001b[37m\u001b[0m \u001b[1m7s\u001b[0m 0us/step\n"
          ]
        }
      ]
    },
    {
      "cell_type": "code",
      "source": [
        "img_path = '/content/snake1.jpg'\n",
        "img = image.load_img(img_path, target_size=(224,224))\n",
        "x = image.img_to_array(img)\n",
        "x = np.expand_dims(x,axis=0)\n",
        "x = preprocess_input(x)"
      ],
      "metadata": {
        "id": "jGsoRUn_uCCf"
      },
      "execution_count": 29,
      "outputs": []
    },
    {
      "cell_type": "code",
      "source": [
        "pred = model.predict(x)"
      ],
      "metadata": {
        "colab": {
          "base_uri": "https://localhost:8080/"
        },
        "id": "mZfHLGC0vpHk",
        "outputId": "aeeea83c-a909-4710-dd94-6882ae005e35"
      },
      "execution_count": 30,
      "outputs": [
        {
          "output_type": "stream",
          "name": "stdout",
          "text": [
            "\u001b[1m1/1\u001b[0m \u001b[32m━━━━━━━━━━━━━━━━━━━━\u001b[0m\u001b[37m\u001b[0m \u001b[1m1s\u001b[0m 850ms/step\n"
          ]
        }
      ]
    },
    {
      "cell_type": "markdown",
      "source": [
        "decode_predictions(pred, top=5) converts the raw prediction vector into human-readable class labels."
      ],
      "metadata": {
        "id": "MItD2AV5x-m4"
      }
    },
    {
      "cell_type": "markdown",
      "source": [
        "[0] Since you only passed one image (batch size = 1), you get the predictions for the first and only image."
      ],
      "metadata": {
        "id": "yI4VIAIHyQ8Q"
      }
    },
    {
      "cell_type": "code",
      "source": [
        "decode_pred = decode_predictions(pred,top=1)[0]"
      ],
      "metadata": {
        "id": "q4CRFVEnw-eq"
      },
      "execution_count": 33,
      "outputs": []
    },
    {
      "cell_type": "markdown",
      "source": [
        "p[0]: ImageNet ID (e.g., 'n02124075')\n",
        "\n",
        "p[1]: Human-readable label/class name (e.g., 'Egyptian_cat')\n",
        "\n",
        "p[2]: Confidence score/probability (e.g., 0.87)"
      ],
      "metadata": {
        "id": "LX9OBv9Iy-gV"
      }
    },
    {
      "cell_type": "code",
      "source": [
        "for p in decode_pred:\n",
        "  print(p[1], \":\", p[2])"
      ],
      "metadata": {
        "colab": {
          "base_uri": "https://localhost:8080/"
        },
        "id": "BPa07jFYxZJx",
        "outputId": "1c46a1cd-f9a0-432b-d31a-b350bcbd3d21"
      },
      "execution_count": 34,
      "outputs": [
        {
          "output_type": "stream",
          "name": "stdout",
          "text": [
            "Indian_cobra : 0.99777895\n"
          ]
        }
      ]
    },
    {
      "cell_type": "code",
      "source": [],
      "metadata": {
        "id": "m3ZHSBAwyqPX"
      },
      "execution_count": null,
      "outputs": []
    }
  ]
}